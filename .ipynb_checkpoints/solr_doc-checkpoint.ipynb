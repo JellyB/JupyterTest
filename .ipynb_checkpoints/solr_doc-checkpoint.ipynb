{
 "cells": [
  {
   "cell_type": "code",
   "execution_count": null,
   "metadata": {},
   "outputs": [
    {
     "name": "stdout",
     "output_type": "stream",
     "text": [
      "{\"msgCode\":\"0\",\"isSuccess\":\"false\"}\n",
      "{\"msgCode\":\"1\",\"isSuccess\":\"true\"}\n",
      "{\"msgCode\":\"1\",\"isSuccess\":\"true\"}\n",
      "{\"msgCode\":\"1\",\"isSuccess\":\"true\"}\n",
      "{\"msgCode\":\"1\",\"isSuccess\":\"true\"}\n",
      "{\"msgCode\":\"1\",\"isSuccess\":\"true\"}\n",
      "{\"msgCode\":\"1\",\"isSuccess\":\"true\"}\n",
      "{\"msgCode\":\"1\",\"isSuccess\":\"true\"}\n",
      "{\"msgCode\":\"1\",\"isSuccess\":\"true\"}\n",
      "{\"msgCode\":\"1\",\"isSuccess\":\"true\"}\n",
      "{\"msgCode\":\"1\",\"isSuccess\":\"true\"}\n",
      "{\"msgCode\":\"1\",\"isSuccess\":\"true\"}\n",
      "{\"msgCode\":\"1\",\"isSuccess\":\"true\"}\n",
      "{\"msgCode\":\"1\",\"isSuccess\":\"true\"}\n",
      "{\"msgCode\":\"1\",\"isSuccess\":\"true\"}\n",
      "{\"msgCode\":\"1\",\"isSuccess\":\"true\"}\n",
      "{\"msgCode\":\"1\",\"isSuccess\":\"true\"}\n"
     ]
    }
   ],
   "source": [
    "import requests\n",
    "import json\n",
    "import time\n",
    "import random\n",
    "\n",
    "def  make_req(payload):\n",
    "    headers={'content-type': 'application/json'}\n",
    "    r = requests.post(\"http://localhost:8080/history-web/search/doc\",data=json.dumps(payload),headers=headers)\n",
    "    print(r.text)\n",
    "\n",
    "def make_batch_data():\n",
    "    for i in range(20):\n",
    "        time.sleep(1)\n",
    "        payload ={\n",
    "            \"id\":\"i242424243\" + str(i),\n",
    "            \"coursename\":\"小学六年级数学\",\n",
    "            \"coursetype\":\"00\",\n",
    "            \"coursestarttime\":str(time.strftime(\"%Y-%m-%d %H:%M:%S\", time.localtime())),\n",
    "            \"courseendtime\":\"2018-12-12 11:23:33\",\n",
    "            \"coursecover\":\"url+xxxx\"+str(i),\n",
    "            \"courseintro\":\"毕老师的课程\",\n",
    "            \"coursestate\":\"00\",\n",
    "            \"courseprice\":str(20*i),\n",
    "            \"catalogsort\":i,\n",
    "            \"catalogintro\":\"YYYY\",\n",
    "            \"catalogstarttime\":str(time.strftime(\"%Y-%m-%d %H:%M:%S\", time.localtime())),\n",
    "            \"catalogendtime\":\"2018-11-11 12:33:33\",\n",
    "            \"catalogperiodtype\":\"A\",\n",
    "            \"catalogtimelength\": str(i *2),\n",
    "            \"catalogid\":[\"1234234\",\"23423424\",\"234234243\"],\n",
    "            \"catalogname\":[\"小学\",\"六年级\",\"数学\"],\n",
    "            \"tagid\":\"t214234243\",\n",
    "            \"tagdescn\":[\"postman测试\"],\n",
    "            \"teacherid\":\"t242342424\" +  str(i),\n",
    "            \"teachername\":\"毕老师\" +  str(i),\n",
    "            \"teacherintro\":\"so handsom\"\n",
    "        }\n",
    "        make_req(payload) \n",
    "    \n",
    "\n",
    "make_batch_data() "
   ]
  }
 ],
 "metadata": {
  "kernelspec": {
   "display_name": "Python 3",
   "language": "python",
   "name": "python3"
  }
 },
 "nbformat": 4,
 "nbformat_minor": 2
}
