{
 "cells": [
  {
   "cell_type": "code",
   "execution_count": 32,
   "metadata": {},
   "outputs": [
    {
     "name": "stdout",
     "output_type": "stream",
     "text": [
      "{\"rows\":[],\"msgCode\":0,\"isSuccess\":\"true\"}\n",
      "2018-01-11 16:58:44\n"
     ]
    }
   ],
   "source": [
    "import requests\n",
    "import json\n",
    "import time\n",
    "\n",
    "def search_content(payload):\n",
    "    headers={'content-type': 'application/json'}\n",
    "    r = requests.post(\"http://localhost:8080/history-web/search/search\",data=json.dumps(payload),headers=headers)\n",
    "    print(r.text)\n",
    "    \n",
    "payload={\n",
    "    \"page\":\"1\",\n",
    "    \"rows\":\"20\",\n",
    "    \"content\":\"毕老师\",\n",
    "    \"order\":\"0\"\n",
    "}\n",
    "search_content(payload)\n",
    "#print(str(time.strftime(\"%Y-%m-%d %H:%M:%S\", time.localtime())))"
   ]
  }
 ],
 "metadata": {
  "kernelspec": {
   "display_name": "Python 3",
   "language": "python",
   "name": "python3"
  },
  "language_info": {
   "codemirror_mode": {
    "name": "ipython",
    "version": 3
   },
   "file_extension": ".py",
   "mimetype": "text/x-python",
   "name": "python",
   "nbconvert_exporter": "python",
   "pygments_lexer": "ipython3",
   "version": "3.6.3"
  }
 },
 "nbformat": 4,
 "nbformat_minor": 2
}
