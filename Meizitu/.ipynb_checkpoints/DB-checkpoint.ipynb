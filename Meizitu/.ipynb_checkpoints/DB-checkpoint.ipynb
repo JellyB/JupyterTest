{
 "cells": [
  {
   "cell_type": "code",
   "execution_count": 6,
   "metadata": {},
   "outputs": [
    {
     "ename": "IndentationError",
     "evalue": "unindent does not match any outer indentation level (<tokenize>, line 38)",
     "output_type": "error",
     "traceback": [
      "\u001b[1;36m  File \u001b[1;32m\"<tokenize>\"\u001b[1;36m, line \u001b[1;32m38\u001b[0m\n\u001b[1;33m    def checkExist(self, table, record):\u001b[0m\n\u001b[1;37m    ^\u001b[0m\n\u001b[1;31mIndentationError\u001b[0m\u001b[1;31m:\u001b[0m unindent does not match any outer indentation level\n"
     ]
    }
   ],
   "source": [
    "import pymysql\n",
    "\n",
    "\n",
    "class DBHelper:\n",
    "\tdef __init__(self):\n",
    "\t\t# 链接数据库\n",
    "\t\ttry:\n",
    "\t\t\t# charset 默认是 latin1, 查询到中文会是？？\n",
    "\t\t\t# charset='utf8mb4' 避免有表情时插入错误\n",
    "\t\t\tself.__db = pymysql.connect(host='127.0.0.1', user='root', password='111111', database='test', charset='utf8mb4')\n",
    "\t\t\tself.__cur = self.__db.cursor()\n",
    "\t\texcept pymysql.Error as e:\n",
    "\t\t\tprint('链接数据库失败：', e.args[0], e.args[1])\n",
    "\n",
    "\tdef insert(self, table, myDict):\n",
    "\t\t# 答案中存在表情会出错\n",
    "\t\t# 答案中存在双引号会出错，sql语句会发生歧义\n",
    "\t\t# 插入一条数据\n",
    "\t\ttry:\n",
    "\t\t\tcols = ','.join(myDict.keys())\n",
    "\t\t\tvalues = ','.join(map(lambda x: '\"'+str(x)+'\"', myDict.values()))\n",
    "\t\t\tsql = 'INSERT INTO %s (%s) VALUES (%s)' % (table, cols, values)\n",
    "\t\t\tresult = self.__cur.execute(sql)\n",
    "\t\t\tself.__db.commit()            \n",
    "\t\texcept pymysql.Error as e:\n",
    "\t\t\tprint('插入失败：', e.args[0], e.args[1])\n",
    "\t\t\t# 发生错误时回滚\n",
    "\t\t\t# DML 语句，执行完之后，处理的数据，都会放在回滚段中（除了 SELECT 语句），\n",
    "\t\t\t# 等待用户进行提交（COMMIT）或者回滚 （ROLLBACK），当用户执行 COMMIT / ROLLBACK后，\n",
    "\t\t\t# 放在回滚段中的数据就会被删除。\n",
    "\t\t\tself.__db.rollback()\n",
    "        finally:\n",
    "            print('hahahha')\n",
    "            self.__cur.close()\n",
    "            self.__db.close()\n",
    "            \n",
    "            \n",
    "    def checkExist(self, table, record):     \n",
    "        try:\n",
    "            sql = 'SELECT COUNT(*) FROM %s WHERE url= %s'%(table, record)\n",
    "            result = self.__cur.execute(sql)\n",
    "            if result > 0:\n",
    "                return True\n",
    "            else:\n",
    "                return False\n",
    "        except pymysql.Error as e:\n",
    "            print('查询失败！')\n",
    "            return False\n",
    "        finally:\n",
    "            self.__cur.close()\n",
    "            self.__db.close()\n",
    "        \n",
    "\n"
   ]
  },
  {
   "cell_type": "code",
   "execution_count": null,
   "metadata": {},
   "outputs": [],
   "source": []
  }
 ],
 "metadata": {
  "kernelspec": {
   "display_name": "Python 3",
   "language": "python",
   "name": "python3"
  },
  "language_info": {
   "codemirror_mode": {
    "name": "ipython",
    "version": 3
   },
   "file_extension": ".py",
   "mimetype": "text/x-python",
   "name": "python",
   "nbconvert_exporter": "python",
   "pygments_lexer": "ipython3",
   "version": "3.6.3"
  }
 },
 "nbformat": 4,
 "nbformat_minor": 2
}
