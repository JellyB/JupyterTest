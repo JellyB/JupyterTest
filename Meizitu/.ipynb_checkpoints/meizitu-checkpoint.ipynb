{
 "cells": [
  {
   "cell_type": "code",
   "execution_count": 67,
   "metadata": {},
   "outputs": [
    {
     "name": "stdout",
     "output_type": "stream",
     "text": [
      "颜值控 http://www.meizitu.com/a/pure.html\n",
      "萌妹 http://www.meizitu.com/a/cute.html\n",
      "性感 http://www.meizitu.com/a/sexy.html\n",
      "福利 http://www.meizitu.com/a/fuli.html\n",
      "长腿美臀 http://www.meizitu.com/a/legs.html\n",
      "日系妹纸 http://www.meizitu.com/a/rixi.html\n",
      "治愈系 http://www.meizitu.com/a/qingchun.html\n",
      "运动girl http://www.meizitu.com/a/yundong.html\n",
      "清纯 http://www.meizitu.com/a/qingchun.html\n",
      "私房 http://www.meizitu.com/a/sifang.html\n",
      "模特 http://www.meizitu.com/tag/mote_6_1.html\n",
      "可爱 http://www.meizitu.com/tag/keai_64_1.html\n",
      "比基尼 http://www.meizitu.com/a/bijini.html\n",
      "气质 http://www.meizitu.com/tag/qizhi_53_1.html\n",
      "半裸 http://www.meizitu.com/tag/banluo_5_1.html\n",
      "女神 http://www.meizitu.com/tag/nvshen_460_1.html\n",
      "全裸 http://www.meizitu.com/tag/quanluo_4_1.html\n",
      "美臀 http://www.meizitu.com/tag/meitun_42_1.html\n",
      "成熟 http://www.meizitu.com/tag/chengshu_487_1.html\n",
      "性感 http://www.meizitu.com/a/xinggan.html\n",
      "浴室 http://www.meizitu.com/a/xinggan.html\n",
      "私房 http://www.meizitu.com/a/sifang.html\n",
      "美腿 http://www.meizitu.com/a/sifang.html\n",
      "清纯 http://www.meizitu.com/a/qingchun.html\n",
      "甜美 http://www.meizitu.com/a/qingchun.html\n",
      "治愈系 http://www.meizitu.com/a/qingchun.html\n",
      "萌妹子 http://www.meizitu.com/a/meizi.html\n",
      "小清新 http://www.meizitu.com/a/xiaoqingxin.htm\n",
      "女神 http://www.meizitu.com/a/nvshen.html\n",
      "气质美女 http://www.meizitu.com/a/qizhi.html\n",
      "嫩模 http://www.meizitu.com/a/mote.html\n",
      "车模 http://www.meizitu.com/a/mote.html\n",
      "比基尼 http://www.meizitu.com/a/bijini.html\n",
      "足球宝贝 http://www.meizitu.com/a/baobei.html\n",
      "萝莉 http://www.meizitu.com/a/luoli.html\n",
      "90后 http://www.meizitu.com/a/wangluo.html\n",
      "日韩美女 http://www.meizitu.com/a/rihan.html\n",
      "欧美美女 http://www.meizitu.com/a/oumei.html\n"
     ]
    }
   ],
   "source": [
    "import requests\n",
    "import re\n",
    "from DB import DBHelper\n",
    "from bs4 import BeautifulSoup\n",
    "\n",
    "html = requests.get('http://www.meizitu.com')\n",
    "html.encoding = 'gbk'\n",
    "bsoup = BeautifulSoup(html.text.strip().replace('<!--   ','').replace('-->',''), \"html.parser\")\n",
    "tags = bsoup.find('div',{'class': 'tags'}).findAll('a')\n",
    "for a in tags:\n",
    "    myDict = {\n",
    "        'title': a.attrs['title'],\n",
    "        'url':a.attrs['href']\n",
    "    }\n",
    "    print(a.attrs['title'],a.attrs['href'])\n",
    "    DBHelper().insert('t_meizitu_tags_url',myDict)"
   ]
  },
  {
   "cell_type": "code",
   "execution_count": 92,
   "metadata": {},
   "outputs": [
    {
     "name": "stdout",
     "output_type": "stream",
     "text": [
      "没有下一页！\n"
     ]
    }
   ],
   "source": [
    "import requests\n",
    "from bs4 import BeautifulSoup\n",
    "\n",
    "html = requests.get('http://www.meizitu.com/a/oumei.html')\n",
    "html.encoding='gbk'\n",
    "bsoup = BeautifulSoup(html.text,'html.parser').find('div',{'class','navigation'}).findAll('a')[:-2]\n",
    "if len(bsoup):\n",
    "    for a in bsoup:\n",
    "        print (a.attrs['href'])\n",
    "else:\n",
    "    print('没有下一页！')"
   ]
  }
 ],
 "metadata": {
  "kernelspec": {
   "display_name": "Python 3",
   "language": "python",
   "name": "python3"
  },
  "language_info": {
   "codemirror_mode": {
    "name": "ipython",
    "version": 3
   },
   "file_extension": ".py",
   "mimetype": "text/x-python",
   "name": "python",
   "nbconvert_exporter": "python",
   "pygments_lexer": "ipython3",
   "version": "3.6.3"
  }
 },
 "nbformat": 4,
 "nbformat_minor": 2
}
