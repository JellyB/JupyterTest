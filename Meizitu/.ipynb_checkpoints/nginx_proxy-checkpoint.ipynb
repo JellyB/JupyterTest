{
 "cells": [
  {
   "cell_type": "code",
   "execution_count": 19,
   "metadata": {},
   "outputs": [
    {
     "ename": "SyntaxError",
     "evalue": "invalid character in identifier (<ipython-input-19-cfd8aabfaf9e>, line 8)",
     "output_type": "error",
     "traceback": [
      "\u001b[1;36m  File \u001b[1;32m\"<ipython-input-19-cfd8aabfaf9e>\"\u001b[1;36m, line \u001b[1;32m8\u001b[0m\n\u001b[1;33m    resp = requests.get(\"https://yfalogin.wdcloud.cc/admin-login/user/login/auth\", headers = headers, data = d, proxies = {'https'： 112.74.94.142:3128}, timeout = 10)\u001b[0m\n\u001b[1;37m                                                                                                                                  ^\u001b[0m\n\u001b[1;31mSyntaxError\u001b[0m\u001b[1;31m:\u001b[0m invalid character in identifier\n"
     ]
    }
   ],
   "source": [
    "import user_agent\n",
    "import requests\n",
    "def nginx_proxy():    \n",
    "#result = dbhelper.query('SELECT ip from t_meizitu_proxy_ip')\n",
    "    headers = user_agent.constructHeaders()\n",
    "    while True:\n",
    "        d = {'loginname':'admin', 'loginpwd': '111111'}\n",
    "        resp = requests.get(\"https://yfalogin.wdcloud.cc/admin-login/user/login/auth\", headers = headers, data = d, proxies = {'https'： 112.74.94.142:3128}, timeout = 10)\n",
    "        print(resp.text, proxy_ip)\n",
    "nginx_proxy()"
   ]
  }
 ],
 "metadata": {
  "kernelspec": {
   "display_name": "Python 3",
   "language": "python",
   "name": "python3"
  },
  "language_info": {
   "codemirror_mode": {
    "name": "ipython",
    "version": 3
   },
   "file_extension": ".py",
   "mimetype": "text/x-python",
   "name": "python",
   "nbconvert_exporter": "python",
   "pygments_lexer": "ipython3",
   "version": "3.6.3"
  }
 },
 "nbformat": 4,
 "nbformat_minor": 2
}
