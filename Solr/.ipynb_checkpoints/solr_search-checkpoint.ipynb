{
 "cells": [
  {
   "cell_type": "code",
   "execution_count": 17,
   "metadata": {},
   "outputs": [
    {
     "name": "stdout",
     "output_type": "stream",
     "text": [
      "{\"records\":1,\"rows\":[{\"catalogperiodtype\":\"A\",\"coursename\":\"鱼王\",\"tagid\":[\"t214234243\"],\"courseintro\":\"长篇小说《鱼王》是阿斯塔菲耶夫最具个性的一部代表作，俄罗斯当代文学的经典。全书由十三个内容相对独立的“叙事短篇小说”组成，全部围绕着人与自然的关系，深入细致... \",\"catalogname\":[\"小说\"],\"coursestarttime\":\"2018-01-12 13:54:40\",\"catalogstarttime\":\"2018-01-12 13:54:40\",\"courseendtime\":\"2018-12-12 11:23:33\",\"coursetype\":\"00\",\"coursestate\":\"00\",\"catalogsort\":[9],\"catalogintro\":[\"小说\"],\"teacherid\":\"t2423424249\",\"catalogid\":[\"1234234\",\"23423424\",\"234234243\"],\"courseprice\":\"78\",\"catalogtimelength\":\"18\",\"teachername\":\"维克托·阿斯塔菲耶夫\",\"id\":\"book000009\",\"tagdescn\":[\"[俄]\",\"维克托·阿斯塔菲耶夫\",\"夏仲翼 等\",\"小说\"],\"catalogendtime\":\"2018-11-11 12:33:33\",\"teacherintro\":\"维克托·阿斯塔菲耶夫\",\"coursecover\":\"https://img3.doubanio.com/mpic/s29396716.jpg\"}],\"msgCode\":1,\"isSuccess\":\"true\"}\n"
     ]
    }
   ],
   "source": [
    "import requests\n",
    "import json\n",
    "import time\n",
    "\n",
    "def search_content(payload):\n",
    "    headers={'content-type': 'application/json'}\n",
    "    r = requests.post(\"http://localhost:8080/history-web/search/search\",data=json.dumps(payload),headers=headers)\n",
    "    print(r.text)\n",
    "    \n",
    "payload={\n",
    "    \"page\":\"1\",\n",
    "    \"rows\":\"20\",\n",
    "    \"content\":\"加勒比海\",\n",
    "    \"order\":\"0\"\n",
    "}\n",
    "search_content(payload)\n",
    "#print(str(time.strftime(\"%Y-%m-%d %H:%M:%S\", time.localtime())))"
   ]
  }
 ],
 "metadata": {
  "kernelspec": {
   "display_name": "Python 3",
   "language": "python",
   "name": "python3"
  },
  "language_info": {
   "codemirror_mode": {
    "name": "ipython",
    "version": 3
   },
   "file_extension": ".py",
   "mimetype": "text/x-python",
   "name": "python",
   "nbconvert_exporter": "python",
   "pygments_lexer": "ipython3",
   "version": "3.6.3"
  }
 },
 "nbformat": 4,
 "nbformat_minor": 2
}
